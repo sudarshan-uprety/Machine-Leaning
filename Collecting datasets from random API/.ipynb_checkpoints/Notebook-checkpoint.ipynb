{
 "cells": [
  {
   "cell_type": "code",
   "execution_count": 1,
   "id": "a3827256",
   "metadata": {},
   "outputs": [],
   "source": [
    "import pandas as pd\n",
    "import requests"
   ]
  },
  {
   "cell_type": "code",
   "execution_count": 7,
   "id": "439b13da",
   "metadata": {},
   "outputs": [
    {
     "data": {
      "text/plain": [
       "<Response [401]>"
      ]
     },
     "execution_count": 7,
     "metadata": {},
     "output_type": "execute_result"
    }
   ],
   "source": [
    "requests.get('https://aerodatabox.p.rapidapi.com/health/services/feeds/FlightSchedules/airports')"
   ]
  },
  {
   "cell_type": "code",
   "execution_count": 6,
   "id": "01c1c30a",
   "metadata": {},
   "outputs": [],
   "source": [
    "response = requests.get('https://aerodatabox.p.rapidapi.com/health/services/feeds/FlightSchedules/airports')\n"
   ]
  },
  {
   "cell_type": "code",
   "execution_count": 8,
   "id": "2445fcd8",
   "metadata": {},
   "outputs": [
    {
     "data": {
      "text/plain": [
       "{'message': 'Invalid API key. Go to https://docs.rapidapi.com/docs/keys for more info.'}"
      ]
     },
     "execution_count": 8,
     "metadata": {},
     "output_type": "execute_result"
    }
   ],
   "source": [
    "response.json()\n"
   ]
  },
  {
   "cell_type": "code",
   "execution_count": 13,
   "id": "a695dc32",
   "metadata": {},
   "outputs": [
    {
     "data": {
      "text/plain": [
       "'UUDD'"
      ]
     },
     "execution_count": 13,
     "metadata": {},
     "output_type": "execute_result"
    }
   ],
   "source": [
    "import requests\n",
    "\n",
    "url = \"https://aerodatabox.p.rapidapi.com/airports/iata/DME\"\n",
    "\n",
    "headers = {\n",
    "\t\"X-RapidAPI-Key\": \"1400d8f71dmsha12222371ce4d06p16c339jsnff0f8c9a8dcc\",\n",
    "\t\"X-RapidAPI-Host\": \"aerodatabox.p.rapidapi.com\"\n",
    "}\n",
    "\n",
    "response = requests.request(\"GET\", url, headers=headers)\n",
    "\n",
    "response.json()['icao']"
   ]
  },
  {
   "cell_type": "code",
   "execution_count": null,
   "id": "712fa8a6",
   "metadata": {},
   "outputs": [],
   "source": []
  }
 ],
 "metadata": {
  "kernelspec": {
   "display_name": "Python 3 (ipykernel)",
   "language": "python",
   "name": "python3"
  },
  "language_info": {
   "codemirror_mode": {
    "name": "ipython",
    "version": 3
   },
   "file_extension": ".py",
   "mimetype": "text/x-python",
   "name": "python",
   "nbconvert_exporter": "python",
   "pygments_lexer": "ipython3",
   "version": "3.9.12"
  }
 },
 "nbformat": 4,
 "nbformat_minor": 5
}
